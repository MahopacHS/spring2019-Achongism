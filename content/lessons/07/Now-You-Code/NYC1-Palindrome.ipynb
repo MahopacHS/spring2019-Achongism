{
  "cells": [
    {
      "metadata": {
        "trusted": true
      },
      "cell_type": "code",
      "source": "",
      "execution_count": null,
      "outputs": []
    },
    {
      "metadata": {},
      "cell_type": "markdown",
      "source": "# Now You Code 1: Palindrome Detector\n\nWrite a program to detect palindromes [https://en.wikipedia.org/wiki/Palindrome]. A palindrome is defined as a word or phrase which is the same in reverse. Here's some example's of one word palindromes:\n\n```\ndad\nwow\npop\nabba\nnoon\nkayak\nmadam\nsolos\nracecar\n```\n\nThere's several ways you accomplish this but we'd recommend using Python's extended slice notation as covered in the readings. It's by far the simplest method. \n\nThe final program should take input and return whether the text is or is not a palindrome until you enter `quit`.\n\nSample run of complete program:\n\n```\nEnter text or type `quit`: dad\n'dad' is a palindrome.\nEnter text or type `quit`: pappa\n'pappa' is not a palindrome.\nEnter text or type `quit`: quit\n```\n\nOnce again we will use the problem simplification technique to writing this program.\n\nFirst we will write the `isPalindrome(text)` function, then we will write the main program.\n"
    },
    {
      "metadata": {},
      "cell_type": "markdown",
      "source": "## Step 1: Problem Analysis for isPalindrome function only\n\nInputs:word\n\nOutputs:if the word is a palindrome string or not\n\nAlgorithm (Steps in Program):enter the string, put it in reverse, see if the reversed and original version of the word is the same."
    },
    {
      "metadata": {
        "trusted": true
      },
      "cell_type": "code",
      "source": "## Step 2: todo write function definition here\nstring = input(\"please enter a string: \")\nstr1 = \"\"\n\nfor i in string:\n    str1 = i + str1\nprint(\"string in reverse order : \", str1)\n\nif(string == str1):\n    print(\"This is a Palindrome String\")\nelse:\n    print(\"this is not a Palindrome string\")",
      "execution_count": 13,
      "outputs": [
        {
          "output_type": "stream",
          "name": "stdout",
          "text": "please enter a string: mike\nstring in reverse order :  ekim\nthis is not a Palindrome string\n"
        }
      ]
    },
    {
      "metadata": {
        "trusted": true
      },
      "cell_type": "code",
      "source": "## step 3: test the isPalindrome function to make sure it works:\nstring = input(\"please enter a string: \")\nstr1 = \"\"\n\nfor i in string:\n    str1 = i + str1\nprint(\"string in reverse order : \", str1)\n\nif(string == str1):\n    print(\"This is a Palindrome String\")\nelse:\n    print(\"this is not a Palindrome string\")\n",
      "execution_count": 2,
      "outputs": [
        {
          "output_type": "stream",
          "name": "stdout",
          "text": "please enter a string: kayak\nstring in reverse order :  kayak\nThis is a Palindrome String\n"
        }
      ]
    },
    {
      "metadata": {},
      "cell_type": "markdown",
      "source": "## Step 4: Problem Analysis for full Program\n\nInputs:word\n\nOutputs:if the word is a palindrome string or not\n\nAlgorithm (Steps in Program):enter the string, put it in reverse, see if the reversed and original version of the word is the same.\n\n"
    },
    {
      "metadata": {
        "trusted": true
      },
      "cell_type": "code",
      "source": "## Step 5: todo write code for full problem, using the isPalindrome function to help you solve the problem\nstring = input(\"please enter a string: \")\nstr1 = \"\"\n\nfor i in string:\n    str1 = i + str1\nprint(\"string in reverse order : \", str1)\n\nif(string == str1):\n    print(\"This is a Palindrome String\")\nelse:\n    print(\"this is not a Palindrome string\")\n\n",
      "execution_count": 1,
      "outputs": [
        {
          "output_type": "stream",
          "name": "stdout",
          "text": "please enter a string: mike\nstring in reverse order :  ekim\nthis is not a Palindrome string\n"
        }
      ]
    },
    {
      "metadata": {},
      "cell_type": "markdown",
      "source": "## Step 6: Questions\n\n1. Did you use a loop inside your `isPalindrome` function?Yes Can you think of a way to re-factor it without a loop? I would have to play around with the code to test it.\n2. How many tests are required in step 3?2\n3. What is the exit condition of the loop in the full program? This is/ is not a palindrome string.\n"
    },
    {
      "metadata": {},
      "cell_type": "markdown",
      "source": "## Reminder of Evaluation Criteria\n\n1. What the problem attempted (analysis, code, and answered questions) ?\n2. What the problem analysis thought out? (does the program match the plan?)\n3. Does the code execute without syntax error?\n4. Does the code solve the intended problem?\n5. Is the code well written? (easy to understand, modular, and self-documenting, handles errors)\n"
    },
    {
      "metadata": {
        "collapsed": true,
        "trusted": false
      },
      "cell_type": "code",
      "source": "",
      "execution_count": null,
      "outputs": []
    }
  ],
  "metadata": {
    "anaconda-cloud": {},
    "kernelspec": {
      "name": "python3",
      "display_name": "Python 3",
      "language": "python"
    },
    "language_info": {
      "mimetype": "text/x-python",
      "nbconvert_exporter": "python",
      "name": "python",
      "pygments_lexer": "ipython3",
      "version": "3.5.4",
      "file_extension": ".py",
      "codemirror_mode": {
        "version": 3,
        "name": "ipython"
      }
    }
  },
  "nbformat": 4,
  "nbformat_minor": 1
}