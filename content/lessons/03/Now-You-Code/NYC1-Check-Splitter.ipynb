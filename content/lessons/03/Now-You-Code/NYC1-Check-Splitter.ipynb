{
  "cells": [
    {
      "metadata": {},
      "cell_type": "markdown",
      "source": "# Now You Code 1: Check Splitter\n\nWrite a Python program which splits up a restaurant check. It first prompts you to input the total amount of your check, then the number of people dining. It should then output the amout each diner must contribute to the check.  For example:\n\n```\n*** Check Splitter ***\nHow much is the amount of the check? 100.00\nHow many people ? 6\nEach person owes: $16.67\n```\n\nNOTE: Use string formatters to display the output to two decimal places.\n"
    },
    {
      "metadata": {
        "collapsed": true
      },
      "cell_type": "markdown",
      "source": "## Step 1: Problem Analysis\n\nInputs:check,people\n\nOutputs:how much each person owes\n\nAlgorithm (Steps in Program):find the check, how many people, then find out how much each person owes dividing check by people, print out the amount.\n\n"
    },
    {
      "metadata": {
        "trusted": true
      },
      "cell_type": "code",
      "source": "print(\"*** Check Splitter ***\")\ncheck = float(input(\"enter the amount: \"))\npeople = int(input(\"How many people: \"))\neach_person_owes = check/people\nprint(\"Each person owes:$%.2f\" %(each_person_owes)) ",
      "execution_count": 1,
      "outputs": [
        {
          "output_type": "stream",
          "text": "*** Check Splitter ***\nenter the amount: 22\nHow many people: 2\nEach person owes:$11.00\n",
          "name": "stdout"
        }
      ]
    },
    {
      "metadata": {
        "trusted": true
      },
      "cell_type": "code",
      "source": "## Step 3: Questions\n\n1. What happens when you enter `TWO` instead of `2` for the number of people dining? or $60 as the amount of the check, instead of 60? It doesnt work because the code cant see two as a number.\n2. What type of error is this? ValueErrorDo you think it can be handled in code?I think it can be if you make number words instead of numbers readable.\n3. Explain what happens when you enter `0.5` for the number of people dining? Does the program run? Does it make sense? it doesnt run i think because one half is not a whole number and it does make sense.\n",
      "execution_count": 5,
      "outputs": [
        {
          "output_type": "error",
          "ename": "SyntaxError",
          "evalue": "invalid syntax (<ipython-input-5-7c00121c2895>, line 3)",
          "traceback": [
            "\u001b[0;36m  File \u001b[0;32m\"<ipython-input-5-7c00121c2895>\"\u001b[0;36m, line \u001b[0;32m3\u001b[0m\n\u001b[0;31m    1. What happens when you enter `TWO` instead of `2` for the number of people dining? or $60 as the amount of the check, instead of 60? It doesnt work because the code cant see two as a number.\u001b[0m\n\u001b[0m          ^\u001b[0m\n\u001b[0;31mSyntaxError\u001b[0m\u001b[0;31m:\u001b[0m invalid syntax\n"
          ]
        }
      ]
    },
    {
      "metadata": {},
      "cell_type": "markdown",
      "source": "## Reminder of Evaluation Criteria\n\n1. What the problem attempted (analysis, code, and answered questions) ?\n2. What the problem analysis thought out? (does the program match the plan?)\n3. Does the code execute without syntax error?\n4. Does the code solve the intended problem?\n5. Is the code well written? (easy to understand, modular, and self-documenting, handles errors)\n"
    },
    {
      "metadata": {
        "collapsed": true,
        "trusted": false
      },
      "cell_type": "code",
      "source": "",
      "execution_count": null,
      "outputs": []
    }
  ],
  "metadata": {
    "anaconda-cloud": {},
    "kernelspec": {
      "name": "python3",
      "display_name": "Python 3",
      "language": "python"
    },
    "language_info": {
      "mimetype": "text/x-python",
      "nbconvert_exporter": "python",
      "name": "python",
      "pygments_lexer": "ipython3",
      "version": "3.5.4",
      "file_extension": ".py",
      "codemirror_mode": {
        "version": 3,
        "name": "ipython"
      }
    }
  },
  "nbformat": 4,
  "nbformat_minor": 1
}