{
  "cells": [
    {
      "metadata": {},
      "cell_type": "markdown",
      "source": "# In-Class Coding Lab: Data Visualization\n\nThe goals of this lab are to help you understand:\n\n - The value of visualization: A picture is worth 1,000 words!\n - The various ways to visualize information\n - The basic requirements for any visualization\n - How to plot complex visualizations such as multi-series charts and maps\n - Visualization Tools:\n     - Matplolib\n     - Plot.ly\n     - Folium Maps\n     "
    },
    {
      "metadata": {
        "trusted": true
      },
      "cell_type": "code",
      "source": "!pip install cufflinks\n!pip install folium",
      "execution_count": 1,
      "outputs": [
        {
          "output_type": "stream",
          "text": "Collecting cufflinks\n\u001b[?25l  Downloading https://files.pythonhosted.org/packages/dd/c9/c6f3675387438929af73e1199c45a623205898bafeab5ccd713efe3b43c2/cufflinks-0.15.tar.gz (81kB)\n\u001b[K     |████████████████████████████████| 81kB 2.8MB/s eta 0:00:01\n\u001b[?25hRequirement already satisfied: numpy>=1.9.2 in /home/nbuser/anaconda3_420/lib/python3.5/site-packages (from cufflinks) (1.16.3)\nRequirement already satisfied: pandas>=0.19.2 in /home/nbuser/anaconda3_420/lib/python3.5/site-packages (from cufflinks) (0.19.2)\nRequirement already satisfied: plotly>=3.0.0 in /home/nbuser/anaconda3_420/lib/python3.5/site-packages (from cufflinks) (3.8.1)\nRequirement already satisfied: six>=1.9.0 in /home/nbuser/anaconda3_420/lib/python3.5/site-packages (from cufflinks) (1.11.0)\nCollecting colorlover>=0.2.1 (from cufflinks)\n  Downloading https://files.pythonhosted.org/packages/9a/53/f696e4480b1d1de3b1523991dea71cf417c8b19fe70c704da164f3f90972/colorlover-0.3.0-py3-none-any.whl\nRequirement already satisfied: setuptools>=34.4.1 in /home/nbuser/anaconda3_420/lib/python3.5/site-packages (from cufflinks) (41.0.1)\nRequirement already satisfied: ipython>=5.3.0 in /home/nbuser/anaconda3_420/lib/python3.5/site-packages (from cufflinks) (6.2.1)\nRequirement already satisfied: ipywidgets>=7.0.0 in /home/nbuser/anaconda3_420/lib/python3.5/site-packages (from cufflinks) (7.2.1)\nRequirement already satisfied: python-dateutil>=2 in /home/nbuser/anaconda3_420/lib/python3.5/site-packages (from pandas>=0.19.2->cufflinks) (2.7.5)\nRequirement already satisfied: pytz>=2011k in /home/nbuser/anaconda3_420/lib/python3.5/site-packages (from pandas>=0.19.2->cufflinks) (2016.6.1)\nRequirement already satisfied: decorator>=4.0.6 in /home/nbuser/anaconda3_420/lib/python3.5/site-packages (from plotly>=3.0.0->cufflinks) (4.0.10)\nRequirement already satisfied: requests in /home/nbuser/anaconda3_420/lib/python3.5/site-packages (from plotly>=3.0.0->cufflinks) (2.14.2)\nRequirement already satisfied: nbformat>=4.2 in /home/nbuser/anaconda3_420/lib/python3.5/site-packages (from plotly>=3.0.0->cufflinks) (4.2.0)\nRequirement already satisfied: retrying>=1.3.3 in /home/nbuser/anaconda3_420/lib/python3.5/site-packages (from plotly>=3.0.0->cufflinks) (1.3.3)\nRequirement already satisfied: jedi>=0.10 in /home/nbuser/anaconda3_420/lib/python3.5/site-packages (from ipython>=5.3.0->cufflinks) (0.11.0)\nRequirement already satisfied: pickleshare in /home/nbuser/anaconda3_420/lib/python3.5/site-packages (from ipython>=5.3.0->cufflinks) (0.7.4)\nRequirement already satisfied: simplegeneric>0.8 in /home/nbuser/anaconda3_420/lib/python3.5/site-packages (from ipython>=5.3.0->cufflinks) (0.8.1)\nRequirement already satisfied: traitlets>=4.2 in /home/nbuser/anaconda3_420/lib/python3.5/site-packages (from ipython>=5.3.0->cufflinks) (4.3.1)\nRequirement already satisfied: prompt_toolkit<2.0.0,>=1.0.4 in /home/nbuser/anaconda3_420/lib/python3.5/site-packages (from ipython>=5.3.0->cufflinks) (1.0.15)\nRequirement already satisfied: pygments in /home/nbuser/anaconda3_420/lib/python3.5/site-packages (from ipython>=5.3.0->cufflinks) (2.1.3)\nRequirement already satisfied: pexpect in /home/nbuser/anaconda3_420/lib/python3.5/site-packages (from ipython>=5.3.0->cufflinks) (4.0.1)\nRequirement already satisfied: ipykernel>=4.5.1 in /home/nbuser/anaconda3_420/lib/python3.5/site-packages (from ipywidgets>=7.0.0->cufflinks) (4.7.0)\nRequirement already satisfied: widgetsnbextension~=3.2.0 in /home/nbuser/anaconda3_420/lib/python3.5/site-packages (from ipywidgets>=7.0.0->cufflinks) (3.2.0)\nRequirement already satisfied: parso==0.1.* in /home/nbuser/anaconda3_420/lib/python3.5/site-packages (from jedi>=0.10->ipython>=5.3.0->cufflinks) (0.1.1)\nRequirement already satisfied: wcwidth in /home/nbuser/anaconda3_420/lib/python3.5/site-packages (from prompt_toolkit<2.0.0,>=1.0.4->ipython>=5.3.0->cufflinks) (0.1.7)\nRequirement already satisfied: jupyter_client in /home/nbuser/anaconda3_420/lib/python3.5/site-packages (from ipykernel>=4.5.1->ipywidgets>=7.0.0->cufflinks) (5.1.0)\nRequirement already satisfied: tornado>=4.0 in /home/nbuser/anaconda3_420/lib/python3.5/site-packages (from ipykernel>=4.5.1->ipywidgets>=7.0.0->cufflinks) (4.4.1)\nRequirement already satisfied: notebook>=4.4.1 in /home/nbuser/anaconda3_420/lib/python3.5/site-packages (from widgetsnbextension~=3.2.0->ipywidgets>=7.0.0->cufflinks) (5.0.0)\nRequirement already satisfied: jupyter_core in /home/nbuser/anaconda3_420/lib/python3.5/site-packages (from jupyter_client->ipykernel>=4.5.1->ipywidgets>=7.0.0->cufflinks) (4.4.0)\nRequirement already satisfied: pyzmq>=13 in /home/nbuser/anaconda3_420/lib/python3.5/site-packages (from jupyter_client->ipykernel>=4.5.1->ipywidgets>=7.0.0->cufflinks) (15.4.0)\nBuilding wheels for collected packages: cufflinks\n  Building wheel for cufflinks (setup.py) ... \u001b[?25ldone\n\u001b[?25h  Stored in directory: /home/nbuser/.cache/pip/wheels/c7/7f/d3/7d3146a1551614bf0b8eb631ac724d044dd341679e763b594b\nSuccessfully built cufflinks\nInstalling collected packages: colorlover, cufflinks\nSuccessfully installed colorlover-0.3.0 cufflinks-0.15\n\u001b[33mWARNING: You are using pip version 19.1, however version 19.1.1 is available.\nYou should consider upgrading via the 'pip install --upgrade pip' command.\u001b[0m\nCollecting folium\n\u001b[?25l  Downloading https://files.pythonhosted.org/packages/43/77/0287320dc4fd86ae8847bab6c34b5ec370e836a79c7b0c16680a3d9fd770/folium-0.8.3-py2.py3-none-any.whl (87kB)\n\u001b[K     |████████████████████████████████| 92kB 4.0MB/s eta 0:00:011\n\u001b[?25hCollecting branca>=0.3.0 (from folium)\n  Downloading https://files.pythonhosted.org/packages/63/36/1c93318e9653f4e414a2e0c3b98fc898b4970e939afeedeee6075dd3b703/branca-0.3.1-py3-none-any.whl\nRequirement already satisfied: six in /home/nbuser/anaconda3_420/lib/python3.5/site-packages (from folium) (1.11.0)\nRequirement already satisfied: requests in /home/nbuser/anaconda3_420/lib/python3.5/site-packages (from folium) (2.14.2)\nRequirement already satisfied: jinja2 in /home/nbuser/anaconda3_420/lib/python3.5/site-packages (from folium) (2.8)\nRequirement already satisfied: numpy in /home/nbuser/anaconda3_420/lib/python3.5/site-packages (from folium) (1.16.3)\nRequirement already satisfied: MarkupSafe in /home/nbuser/anaconda3_420/lib/python3.5/site-packages (from jinja2->folium) (0.23)\nInstalling collected packages: branca, folium\nSuccessfully installed branca-0.3.1 folium-0.8.3\n\u001b[33mWARNING: You are using pip version 19.1, however version 19.1.1 is available.\nYou should consider upgrading via the 'pip install --upgrade pip' command.\u001b[0m\n",
          "name": "stdout"
        }
      ]
    },
    {
      "metadata": {
        "trusted": true
      },
      "cell_type": "code",
      "source": "%matplotlib inline \n\nimport matplotlib\nimport matplotlib.pyplot as plt\nimport plotly \nimport plotly.plotly as py     \nimport plotly.graph_objs as go  \nimport cufflinks as cf\nimport pandas as pd\nimport folium\nimport warnings\n#matplotlib.rcParams['figure.figsize'] = (20.0, 10.0) # larger figure size\nwarnings.filterwarnings('ignore')",
      "execution_count": 5,
      "outputs": []
    },
    {
      "metadata": {},
      "cell_type": "markdown",
      "source": "## Back to the movie goers data set\n\nFor this lab, we will once again use the movie goers dataset. As you may recall this data set is a survey demographic survey of people who go to the movies. Let's reload the data and setup our `age_group` feature again."
    },
    {
      "metadata": {
        "trusted": true
      },
      "cell_type": "code",
      "source": "goers = pd.read_csv('CCL-moviegoers.csv')\ngoers['age_group'] = ''\ngoers['age_group'][goers['age'] <=18] = 'Youth'\ngoers['age_group'][(goers['age'] >=19) & (goers['age'] <=55)] = 'Adult'\ngoers['age_group'][goers['age'] >=56] = 'Senior'\n\ngoers.sample(5)",
      "execution_count": 7,
      "outputs": [
        {
          "output_type": "execute_result",
          "execution_count": 7,
          "data": {
            "text/plain": "     user_id  age gender     occupation zip_code age_group\n556      557   30      F         writer    11217     Adult\n432      433   27      M         artist    11211     Adult\n702      703   26      M       educator    49512     Adult\n759      760   35      F          other    14211     Adult\n493      494   38      F  administrator    49428     Adult",
            "text/html": "<div>\n<table border=\"1\" class=\"dataframe\">\n  <thead>\n    <tr style=\"text-align: right;\">\n      <th></th>\n      <th>user_id</th>\n      <th>age</th>\n      <th>gender</th>\n      <th>occupation</th>\n      <th>zip_code</th>\n      <th>age_group</th>\n    </tr>\n  </thead>\n  <tbody>\n    <tr>\n      <th>556</th>\n      <td>557</td>\n      <td>30</td>\n      <td>F</td>\n      <td>writer</td>\n      <td>11217</td>\n      <td>Adult</td>\n    </tr>\n    <tr>\n      <th>432</th>\n      <td>433</td>\n      <td>27</td>\n      <td>M</td>\n      <td>artist</td>\n      <td>11211</td>\n      <td>Adult</td>\n    </tr>\n    <tr>\n      <th>702</th>\n      <td>703</td>\n      <td>26</td>\n      <td>M</td>\n      <td>educator</td>\n      <td>49512</td>\n      <td>Adult</td>\n    </tr>\n    <tr>\n      <th>759</th>\n      <td>760</td>\n      <td>35</td>\n      <td>F</td>\n      <td>other</td>\n      <td>14211</td>\n      <td>Adult</td>\n    </tr>\n    <tr>\n      <th>493</th>\n      <td>494</td>\n      <td>38</td>\n      <td>F</td>\n      <td>administrator</td>\n      <td>49428</td>\n      <td>Adult</td>\n    </tr>\n  </tbody>\n</table>\n</div>"
          },
          "metadata": {}
        }
      ]
    },
    {
      "metadata": {},
      "cell_type": "markdown",
      "source": "## Visualizing Data\n\nThere are many ways your can visualize information. Which one is the most appropriate? It depends on the data, of course. \n\n- **Counting Categorial data** belongs in *charts like pie charts and bar charts*.\n- **Counting Numerical data** is best suited for *histograms*.\n- **Timeseries data and continuous data** belongs in *line charts*.\n- **A comparision of two continuous values** is best suited for a *scatter plot*. \n- **Geographical data** is best displauyed on *maps*.\n\nLet's use this knowledge to plot some data in the `goers` `DataFrame`!\n\n## Males or Females?\n\nThe first think we might want to visualize is a count gender in the dataset. A **pie** chart is well suited for this task as it displays data as a portion of a whole. To create a pie chart we need the data to count and the labels for the counts.\n\nLet's try it.\n\nFirst we get the value counts as a series `gender`:"
    },
    {
      "metadata": {
        "trusted": true
      },
      "cell_type": "code",
      "source": "gender = goers['gender'].value_counts()\ngender",
      "execution_count": 8,
      "outputs": [
        {
          "output_type": "execute_result",
          "execution_count": 8,
          "data": {
            "text/plain": "M    670\nF    273\nName: gender, dtype: int64"
          },
          "metadata": {}
        }
      ]
    },
    {
      "metadata": {},
      "cell_type": "markdown",
      "source": "Then we make it into a dataframe:"
    },
    {
      "metadata": {
        "trusted": true
      },
      "cell_type": "code",
      "source": "gender_df = pd.DataFrame( { 'Gender' : gender.index,  \"Counts\" : gender })\ngender_df",
      "execution_count": 9,
      "outputs": [
        {
          "output_type": "execute_result",
          "execution_count": 9,
          "data": {
            "text/plain": "   Counts Gender\nM     670      M\nF     273      F",
            "text/html": "<div>\n<table border=\"1\" class=\"dataframe\">\n  <thead>\n    <tr style=\"text-align: right;\">\n      <th></th>\n      <th>Counts</th>\n      <th>Gender</th>\n    </tr>\n  </thead>\n  <tbody>\n    <tr>\n      <th>M</th>\n      <td>670</td>\n      <td>M</td>\n    </tr>\n    <tr>\n      <th>F</th>\n      <td>273</td>\n      <td>F</td>\n    </tr>\n  </tbody>\n</table>\n</div>"
          },
          "metadata": {}
        }
      ]
    },
    {
      "metadata": {},
      "cell_type": "markdown",
      "source": "Then we plot! The index has the labels, and the value at the index is what we want to plot:"
    },
    {
      "metadata": {
        "trusted": true
      },
      "cell_type": "code",
      "source": "gender_df.plot.pie( y = 'Counts') # y are the values we are plotting",
      "execution_count": 10,
      "outputs": [
        {
          "output_type": "execute_result",
          "execution_count": 10,
          "data": {
            "text/plain": "<matplotlib.axes._subplots.AxesSubplot at 0x7ff0ac9c7ac8>"
          },
          "metadata": {}
        },
        {
          "output_type": "display_data",
          "data": {
            "image/png": "[encoded data removed]",
            "text/plain": "<matplotlib.figure.Figure at 0x7ff0ac9c7780>"
          },
          "metadata": {}
        }
      ]
    },
    {
      "metadata": {},
      "cell_type": "markdown",
      "source": "### Now You Try it!\n\nCreate a pie chart based on `age_group` first create a series of the `value_counts()` second, create the `DataFrame` with two columns `AgeGroup` and `Counts` then plot with `.plot.pie()`. \n\nFollow the steps we did in the previous three cells, but comvine into one cell!"
    },
    {
      "metadata": {
        "trusted": false
      },
      "cell_type": "code",
      "source": "#todo write code here\n",
      "execution_count": null,
      "outputs": []
    },
    {
      "metadata": {},
      "cell_type": "markdown",
      "source": "## Too many pieces of the pie?\n\nPie charts are nice, but they are only useful when you have a small number of labels. More that 5-7 labels and the pie becomes messy. For example take a look at this pie chart of `occupation`:"
    },
    {
      "metadata": {
        "trusted": false
      },
      "cell_type": "code",
      "source": "occ = goers['occupation'].value_counts()\nocc_df = pd.DataFrame( { 'occupation' : occ.index,  \"counts\" : occ })\nocc_df.plot.pie(y = 'counts')\n",
      "execution_count": null,
      "outputs": []
    },
    {
      "metadata": {},
      "cell_type": "markdown",
      "source": "That's crazy... and difficult to comprehend. Also pie charts visualize data as part of the whole. We have no idea how many students there are. Sometimes we want to know actual counts. This is where the **bar chart** comes in handy!\n\n## Raising the bar!\n\nLet's reproduce the same plot as a bar:"
    },
    {
      "metadata": {
        "trusted": false
      },
      "cell_type": "code",
      "source": "occ_df.plot.bar()",
      "execution_count": null,
      "outputs": []
    },
    {
      "metadata": {},
      "cell_type": "markdown",
      "source": "Ahh. that's much better. So much easier to understand!\n\n### Now you try it!\n\nWrite a one-liner to plot `groups_df` as a Bar!"
    },
    {
      "metadata": {
        "trusted": false
      },
      "cell_type": "code",
      "source": "# todo write code here\n",
      "execution_count": null,
      "outputs": []
    },
    {
      "metadata": {},
      "cell_type": "markdown",
      "source": "## When bar charts fail... \n\nBar charts have the same problem as pie charts. Too many categories overcomplicate the chart, or show the data in a meaningless way. For example, let's create a bart chart for ages: "
    },
    {
      "metadata": {
        "trusted": false
      },
      "cell_type": "code",
      "source": "ages = goers['age'].value_counts()\nages_df = pd.DataFrame( { 'age' : ages.index,  \"counts\" : ages })\nages_df.plot.bar(y = 'counts')",
      "execution_count": null,
      "outputs": []
    },
    {
      "metadata": {},
      "cell_type": "markdown",
      "source": "Meaningless. For two key reasons:\n\n1. too many categories\n2. age is a continuous variable not a categorical variable. In plain English, this means there's a relationship between one age and the next.  20 < 21 < 22. This is not represented in a bar chart.\n\n## ...Call in the Histogram!\n\nWhat we want is a **historgram**, which takes a continuous variable and loads counts into \"buckets\".  Notice how we didn't have to lump data with `value_counts()`. Histograms can do that automatically because the `age` variable is continuous. Let's try it:"
    },
    {
      "metadata": {
        "trusted": false
      },
      "cell_type": "code",
      "source": "goers.hist(column ='age')",
      "execution_count": null,
      "outputs": []
    },
    {
      "metadata": {},
      "cell_type": "markdown",
      "source": "## Plot.ly\n\n[Plot.ly](https://plot.ly) is data visualization as a service. You give it data, it gives you back a web-based plot. Plot.ly is free and works with a variety of environments and programming languages, including Python. \n\nFor Python is has bindings so that you can use it just like `matplotlib`! No need to manually invoke the web service call.\n\nTo get started with plot.ly you must sign up for an account and get a set of credentials:\n\n- Visit [https://plot.ly/settings/api](https://plot.ly/settings/api)\n- Create an account or sign-in with Google or GitHub\n- Generate your API key and paste your username and key in the code below:"
    },
    {
      "metadata": {
        "collapsed": true,
        "trusted": false
      },
      "cell_type": "code",
      "source": "# todo: setup the credentials replace ??? and ??? with your Plot.ly username and api_key\nplotly.tools.set_credentials_file(username='???', api_key='???')",
      "execution_count": null,
      "outputs": []
    },
    {
      "metadata": {},
      "cell_type": "markdown",
      "source": "Using plot.ly is as easy as, or sometimes easier than `matplotlib`. In most cases all you need to do is call `iplot()` on the data frame. For example, here's out first pie chart, plotly style:"
    },
    {
      "metadata": {
        "trusted": false
      },
      "cell_type": "code",
      "source": "gender_df.iplot(kind=\"pie\", labels = 'Gender', values='Counts') ",
      "execution_count": null,
      "outputs": []
    },
    {
      "metadata": {},
      "cell_type": "markdown",
      "source": "Notice that plot.ly is a bit more interactive. You can hover over the part of the pie chart and see counts!\n\n### Now You Try it!\n\nUse plotly's `iplot()` method to create a bar chart on the `occ_df` Data Frame:\n"
    },
    {
      "metadata": {
        "trusted": false
      },
      "cell_type": "code",
      "source": "# todo: write code here\n",
      "execution_count": null,
      "outputs": []
    },
    {
      "metadata": {},
      "cell_type": "markdown",
      "source": "## Folium with Leaflet.js\n\nFolium is a Python module wrapper for [Leaflet.js](http://leafletjs.com/), which uses [Open Street Maps](https://www.openstreetmap.us/). These are two, popular open source mapping libraries. Unlike Google maps API, its 100% free!\n\nYou can use Folium to render maps in Python and put data on the maps. Here's how easy it is to bring up a map:\n"
    },
    {
      "metadata": {
        "scrolled": true,
        "trusted": false
      },
      "cell_type": "code",
      "source": "CENTER_US = (39.8333333,-98.585522)\nlondon = (51.5074, -0.1278)\nmap = folium.Map(location=CENTER_US, zoom_start=4)\nmap",
      "execution_count": null,
      "outputs": []
    },
    {
      "metadata": {},
      "cell_type": "markdown",
      "source": "You can zoom right down to the street level and get a amazing detail. There's also different maps you can use, as was covered in this week's reading. \n\n## Mapping the students.\n\nLet's take the largest category of movie goers and map their whereabouts. We will first need to import a data set to give us a lat/lng for the `zip_code` we have in the dataframe. We could look this up with Google's geolookup API, but that's too slow as we will be making 100's of requests. It's better to have them stored already and merge them with `goers`!\n\nLet's import the zipcode database into a Pandas DataFrame, then merge it with the `goers` DataFrame:"
    },
    {
      "metadata": {
        "trusted": true
      },
      "cell_type": "code",
      "source": "zipcodes = pd.read_csv('https://raw.githubusercontent.com/mafudge/datasets/master/zipcodes/free-zipcode-database-Primary.csv', dtype = {'Zipcode' :object})\ndata = goers.merge(zipcodes,  how ='inner', left_on='zip_code', right_on='Zipcode')\nstudents = data[ data['occupation'] == 'student']\nstudents.sample()",
      "execution_count": 5,
      "outputs": [
        {
          "output_type": "error",
          "ename": "NameError",
          "evalue": "name 'pd' is not defined",
          "traceback": [
            "\u001b[0;31m---------------------------------------------------------------------------\u001b[0m",
            "\u001b[0;31mNameError\u001b[0m                                 Traceback (most recent call last)",
            "\u001b[0;32m<ipython-input-5-5e110da63537>\u001b[0m in \u001b[0;36m<module>\u001b[0;34m()\u001b[0m\n\u001b[0;32m----> 1\u001b[0;31m \u001b[0mzipcodes\u001b[0m \u001b[0;34m=\u001b[0m \u001b[0mpd\u001b[0m\u001b[0;34m.\u001b[0m\u001b[0mread_csv\u001b[0m\u001b[0;34m(\u001b[0m\u001b[0;34m'https://raw.githubusercontent.com/mafudge/datasets/master/zipcodes/free-zipcode-database-Primary.csv'\u001b[0m\u001b[0;34m,\u001b[0m \u001b[0mdtype\u001b[0m \u001b[0;34m=\u001b[0m \u001b[0;34m{\u001b[0m\u001b[0;34m'Zipcode'\u001b[0m \u001b[0;34m:\u001b[0m\u001b[0mobject\u001b[0m\u001b[0;34m}\u001b[0m\u001b[0;34m)\u001b[0m\u001b[0;34m\u001b[0m\u001b[0m\n\u001b[0m\u001b[1;32m      2\u001b[0m \u001b[0mdata\u001b[0m \u001b[0;34m=\u001b[0m \u001b[0mgoers\u001b[0m\u001b[0;34m.\u001b[0m\u001b[0mmerge\u001b[0m\u001b[0;34m(\u001b[0m\u001b[0mzipcodes\u001b[0m\u001b[0;34m,\u001b[0m  \u001b[0mhow\u001b[0m \u001b[0;34m=\u001b[0m\u001b[0;34m'inner'\u001b[0m\u001b[0;34m,\u001b[0m \u001b[0mleft_on\u001b[0m\u001b[0;34m=\u001b[0m\u001b[0;34m'zip_code'\u001b[0m\u001b[0;34m,\u001b[0m \u001b[0mright_on\u001b[0m\u001b[0;34m=\u001b[0m\u001b[0;34m'Zipcode'\u001b[0m\u001b[0;34m)\u001b[0m\u001b[0;34m\u001b[0m\u001b[0m\n\u001b[1;32m      3\u001b[0m \u001b[0mstudents\u001b[0m \u001b[0;34m=\u001b[0m \u001b[0mdata\u001b[0m\u001b[0;34m[\u001b[0m \u001b[0mdata\u001b[0m\u001b[0;34m[\u001b[0m\u001b[0;34m'occupation'\u001b[0m\u001b[0;34m]\u001b[0m \u001b[0;34m==\u001b[0m \u001b[0;34m'student'\u001b[0m\u001b[0;34m]\u001b[0m\u001b[0;34m\u001b[0m\u001b[0m\n\u001b[1;32m      4\u001b[0m \u001b[0mstudents\u001b[0m\u001b[0;34m.\u001b[0m\u001b[0msample\u001b[0m\u001b[0;34m(\u001b[0m\u001b[0;34m)\u001b[0m\u001b[0;34m\u001b[0m\u001b[0m\n",
            "\u001b[0;31mNameError\u001b[0m: name 'pd' is not defined"
          ]
        }
      ]
    },
    {
      "metadata": {},
      "cell_type": "markdown",
      "source": "Let's explain the code, as a Pandas refresher course:\n\n1. in the first line I added `dtype = {'Zipcode' :object}` to force the `Zipcode` column to be of type `object` without that, it imports as type `int` and cannot match with the `goers` DataFrame.\n1. the next line merges the two dataframes together where the `zip_code` in `doers` (on_left) matches `Zipcode` in `zipcodes` (on_right)\n1. the result `data` is a combined DataFrame, which we then filter to only `student` occupations, sorting that in the `students` DataFrame\n\n\n## Slapping those students on a map!\n\nWe're ready to place the students on a map. It's easy:\n\n1. For each row in the students dataframe:\n1.   get the coordinates (lat /lng )\n1.   make a `marker` with the coordinates\n1.   add the marker to the map with `add_children()`\n\nHere we go!\n"
    },
    {
      "metadata": {
        "scrolled": true,
        "trusted": false
      },
      "cell_type": "code",
      "source": "for row in students.to_records():\n    pos = (row['Lat'],row['Long'])\n    message = \"%d year old %s  from %s, %s\" % (row['age'],row['gender'], row['City'], row['State'])\n    marker = folium.Marker(location=pos, \n                    popup=message\n                          )\n    map.add_children(marker)\nmap",
      "execution_count": null,
      "outputs": []
    },
    {
      "metadata": {},
      "cell_type": "markdown",
      "source": "### Now you try it!\n\n\n1. use the `data` DataFrame to retrieve only the occupation `programmer`\n1. create another map `map2` plot the programmers on that map!"
    },
    {
      "metadata": {
        "collapsed": true,
        "trusted": false
      },
      "cell_type": "code",
      "source": "## todo write code here!\n",
      "execution_count": null,
      "outputs": []
    }
  ],
  "metadata": {
    "anaconda-cloud": {},
    "kernelspec": {
      "name": "python3",
      "display_name": "Python 3",
      "language": "python"
    },
    "language_info": {
      "mimetype": "text/x-python",
      "nbconvert_exporter": "python",
      "name": "python",
      "file_extension": ".py",
      "version": "3.5.4",
      "pygments_lexer": "ipython3",
      "codemirror_mode": {
        "version": 3,
        "name": "ipython"
      }
    }
  },
  "nbformat": 4,
  "nbformat_minor": 1
}