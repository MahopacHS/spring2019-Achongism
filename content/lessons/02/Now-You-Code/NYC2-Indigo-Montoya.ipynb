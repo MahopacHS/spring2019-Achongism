{
  "cells": [
    {
      "metadata": {},
      "cell_type": "markdown",
      "source": "# Now You Code 2: Indigo Montoya\n\n[The Pricess Bride](https://www.rottentomatoes.com/m/princess_bride/) is an adventure film from the 80's, a true cult classic. One of the many notable scenes involves a character Indigo Montoya who explains his character's motivation for revenge through the catch-phase:\n\n\"Hello. My name is Indigo Montoya. You killed my father. Prepare to die!\"\n\nYou can watch the clip here: [https://www.youtube.com/watch?v=YY4cnMmo9qw](https://www.youtube.com/watch?v=YY4cnMmo9qw)\n\nWrite a program in Python which asks the user to enter **your name**, a **relative** and an **past-tense action**. For example if you enter \"Indigo Montoya\", \"Father\" and \"killed\", the program will then output:\n\n\"Hello. My name is Indigo Montoya. You killed my father. Prepare to die!\"\n\nOr you could input \"Mike Fudge\", \"Uncle\" and \"Tickled\" to get:\n\n\"Hello. My name is Mike Fudge. You Tickled my Uncle. Prepare to die!\"\n"
    },
    {
      "metadata": {
        "collapsed": true
      },
      "cell_type": "markdown",
<<<<<<< HEAD
      "source": "## Step 1: Problem Analysis\n\nInputs:\n\nOutputs:\n\nAlgorithm (Steps in Program):input the name, input the relative, input the past-tense verb, print the complete line with the name, relative, past-tense verb"
    },
    {
      "metadata": {
        "trusted": true
      },
      "cell_type": "code",
      "source": "# Step 2: Write code here\nname = input(\"enter a name: \")\nrelative = input(\"Enter a relative: \")\naction = input(\"enter a past-tense action: \")\nprint(\"hello. My name is\", name + \". You\", action, \"my\", relative + \".Prepare to die!\") ",
      "execution_count": 2,
      "outputs": [
        {
          "output_type": "stream",
          "name": "stdout",
          "text": "enter a name: ran\nEnter a relative: jump\nenter a past-tense action: aidan\nhello. My name is ran. You aidan my jump.Prepare to die!\n"
        }
      ]
=======
      "source": "## Step 1: Problem Analysis\n\nInputs:\n\nOutputs:\n\nAlgorithm (Steps in Program):"
    },
    {
      "metadata": {
        "trusted": false
      },
      "cell_type": "code",
      "source": "Your name = input(\"Enter your name: \")\nA relative = input(\"Enter the name of a relative: \")\nprint (Your name 'loved to play video games with his uncle'A relative)",
      "execution_count": 4,
      "outputs": []
>>>>>>> cbca7e4a4cc357fdd225abfb43634974981f7806
    },
    {
      "metadata": {},
      "cell_type": "markdown",
<<<<<<< HEAD
      "source": "## Step 3: Questions\n\n1. What happens when neglect the instructions and enter a past-tense action instead of a name? Does the code still run? Why? The code will still run however, will make no sense at all.\n2. What type of error it when the program runs but does not handle bad input? It is called a logical error\n3. Is there anything you can do in code to correct this type of error? Why or why not?Yes, you can change the codeto make it correct."
=======
      "source": "## Step 3: Questions\n\n1. What happens when neglect the instructions and enter a past-tense action instead of a name? Does the code still run? Why?\n2. What type of error it when the program runs but does not handle bad input?\n3. Is there anything you can do in code to correct this type of error? Why or why not?"
>>>>>>> cbca7e4a4cc357fdd225abfb43634974981f7806
    },
    {
      "metadata": {},
      "cell_type": "markdown",
      "source": "## Reminder of Evaluation Criteria\n\n1. What the problem attempted (analysis, code, and answered questions) ?\n2. What the problem analysis thought out? (does the program match the plan?)\n3. Does the code execute without syntax error?\n4. Does the code solve the intended problem?\n5. Is the code well written? (easy to understand, modular, and self-documenting, handles errors)\n"
    },
    {
      "metadata": {
        "collapsed": true,
        "trusted": false
      },
      "cell_type": "code",
      "source": "",
      "execution_count": null,
      "outputs": []
    }
  ],
  "metadata": {
    "anaconda-cloud": {},
    "kernelspec": {
      "name": "python3",
      "display_name": "Python 3",
      "language": "python"
    },
    "language_info": {
<<<<<<< HEAD
      "mimetype": "text/x-python",
      "nbconvert_exporter": "python",
      "name": "python",
      "file_extension": ".py",
      "version": "3.5.4",
      "pygments_lexer": "ipython3",
      "codemirror_mode": {
        "version": 3,
        "name": "ipython"
      }
=======
      "codemirror_mode": {
        "name": "ipython",
        "version": 3
      },
      "file_extension": ".py",
      "mimetype": "text/x-python",
      "name": "python",
      "nbconvert_exporter": "python",
      "pygments_lexer": "ipython3",
      "version": "3.5.2"
>>>>>>> cbca7e4a4cc357fdd225abfb43634974981f7806
    }
  },
  "nbformat": 4,
  "nbformat_minor": 1
}